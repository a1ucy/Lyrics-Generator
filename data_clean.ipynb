{
 "cells": [
  {
   "cell_type": "code",
   "id": "initial_id",
   "metadata": {
    "collapsed": true,
    "ExecuteTime": {
     "end_time": "2024-06-17T20:05:09.677145Z",
     "start_time": "2024-06-17T20:05:09.668409Z"
    }
   },
   "source": [
    "import pandas as pd\n",
    "data = pd.read_csv('drake_songs.csv')\n",
    "data.columns = ['songs']\n",
    "data.head()\n"
   ],
   "outputs": [
    {
     "data": {
      "text/plain": [
       "                                               songs\n",
       "0  660 ContributorsTranslationsРусскийTürkçeEspañ...\n",
       "1  375 ContributorsTranslationsไทย / Phasa ThaiPo...\n",
       "2  318 ContributorsTranslationsTürkçeEspañolPortu...\n",
       "3  302 ContributorsTranslationsTürkçeEspañolPolsk...\n",
       "4  221 ContributorsTranslationsEspañolFrançaisHol..."
      ],
      "text/html": [
       "<div>\n",
       "<style scoped>\n",
       "    .dataframe tbody tr th:only-of-type {\n",
       "        vertical-align: middle;\n",
       "    }\n",
       "\n",
       "    .dataframe tbody tr th {\n",
       "        vertical-align: top;\n",
       "    }\n",
       "\n",
       "    .dataframe thead th {\n",
       "        text-align: right;\n",
       "    }\n",
       "</style>\n",
       "<table border=\"1\" class=\"dataframe\">\n",
       "  <thead>\n",
       "    <tr style=\"text-align: right;\">\n",
       "      <th></th>\n",
       "      <th>songs</th>\n",
       "    </tr>\n",
       "  </thead>\n",
       "  <tbody>\n",
       "    <tr>\n",
       "      <th>0</th>\n",
       "      <td>660 ContributorsTranslationsРусскийTürkçeEspañ...</td>\n",
       "    </tr>\n",
       "    <tr>\n",
       "      <th>1</th>\n",
       "      <td>375 ContributorsTranslationsไทย / Phasa ThaiPo...</td>\n",
       "    </tr>\n",
       "    <tr>\n",
       "      <th>2</th>\n",
       "      <td>318 ContributorsTranslationsTürkçeEspañolPortu...</td>\n",
       "    </tr>\n",
       "    <tr>\n",
       "      <th>3</th>\n",
       "      <td>302 ContributorsTranslationsTürkçeEspañolPolsk...</td>\n",
       "    </tr>\n",
       "    <tr>\n",
       "      <th>4</th>\n",
       "      <td>221 ContributorsTranslationsEspañolFrançaisHol...</td>\n",
       "    </tr>\n",
       "  </tbody>\n",
       "</table>\n",
       "</div>"
      ]
     },
     "execution_count": 20,
     "metadata": {},
     "output_type": "execute_result"
    }
   ],
   "execution_count": 20
  },
  {
   "metadata": {
    "ExecuteTime": {
     "end_time": "2024-06-17T20:05:32.597891Z",
     "start_time": "2024-06-17T20:05:32.585327Z"
    }
   },
   "cell_type": "code",
   "source": [
    "import re\n",
    "# s = \"318 ContributorsTranslationsTürkçeEspañolPortuguêsFrançaisDeutschHotline Bling Lyrics[Intro]\\nYou used to call me on my\\nYou used to, you used to\\nYeah\\n\\n[Chorus]\\nYou used to call me on my cell phone\\nLate-night when you need my love\\nCall me on my cell phone\\nLate-night when you need my love\\nAnd I know when that hotline bling\\nThat can only mean one thing\\nI know when that hotline bling\\nThat can only mean one thing\\n\\n[Verse 1]\\nEver since I left the city, you\\nGot a reputation for yourself now\\nEverybody knows and I feel left out\\nGirl, you got me down, you got me stressed out\\n'Cause ever since I left the city, you\\nStarted wearin' less and goin' out more\\nGlasses of champagne out on the dance floor\\nHangin' with some girls I never seen before\\n\\n[Chorus]\\nYou used to call me on my cell phone\\nLate-night when you need my love\\nCall me on my cell phone\\nLate-night when you need my love\\nI know when that hotline bling\\nThat can only mean one thing\\nI know when that hotline bling\\nThat can only mean one thing\\nYou might also like[Verse 2]\\nEver since I left the city, you, you, you\\nYou and me, we just don't get along\\nYou make me feel like I did you wrong\\nGoin' places where you don't belong\\nEver since I left the city, you\\nYou got exactly what you asked for\\nRunnin' out of pages in your passport\\nHangin' with some girls I've never seen before\\n\\n[Chorus]\\nYou used to call me on my cell phone\\nLate-night when you need my love\\nCall me on my cell phone\\nLate-night when you need my love\\nAnd I know when that hotline bling\\nThat can only mean one thing\\nI know when that hotline bling\\nThat can only mean one thing\\n\\n[Bridge]\\nThese days, all I do is\\nWonder if you're bendin' over backwards for someone else\\nWonder if you're rollin' up a Backwoods for someone else\\nDoing things I taught you, gettin' nasty for someone else\\nYou don't need no one else\\nYou don't need nobody else, no\\nWhy you never alone?\\nWhy you always touchin' road?\\nUsed to always stay at home\\nBe a good girl, you was in the zone\\nYeah, you should just be yourself\\nRight now, you're someone else\\n[Chorus]\\nYou used to call me on my cell phone\\nLate-night when you need my love\\nCall me on my cell phone\\nLate-night when you need my love\\nAnd I know when that hotline bling\\nThat can only mean one thing\\nI know when that hotline bling\\nThat can only mean one thing\\n\\n[Outro]\\nEver since I left the city—\\n[Produced by Nineteen85]648Embed\"\n",
    "def clean_text(s):\n",
    "    strip = re.search(r'\\n(.*)\\n',s,re.DOTALL).group(1)\n",
    "    strip1 = re.sub('\\[.*?\\]', '', strip)\n",
    "    strip2 = re.sub('\\\\n\\\\n\\\\n', '\\\\n', strip1)\n",
    "    strip3 = re.sub('\\\\n\\\\n', '\\\\n', strip2)\n",
    "    strip4 = re.sub('\\\\n', \" 'newline \", strip3)\n",
    "    strip5 = re.sub(r'[^A-Za-z0-9 \\']+', '', strip4)\n",
    "    return strip5.lower()\n",
    "\n",
    "data['songs'] = data['songs'].apply(clean_text)\n",
    "data.head()"
   ],
   "id": "5df19a94206210f4",
   "outputs": [
    {
     "data": {
      "text/plain": [
       "                                               songs\n",
       "0  and they wishin' and wishin' 'newline and wish...\n",
       "1  trap trapmoneybenny 'newline this shit got me ...\n",
       "2  you used to call me on my 'newline you used to...\n",
       "3  baby i like your style 'newline grips on your ...\n",
       "4  i got my eyes on you 'newline you're everythin..."
      ],
      "text/html": [
       "<div>\n",
       "<style scoped>\n",
       "    .dataframe tbody tr th:only-of-type {\n",
       "        vertical-align: middle;\n",
       "    }\n",
       "\n",
       "    .dataframe tbody tr th {\n",
       "        vertical-align: top;\n",
       "    }\n",
       "\n",
       "    .dataframe thead th {\n",
       "        text-align: right;\n",
       "    }\n",
       "</style>\n",
       "<table border=\"1\" class=\"dataframe\">\n",
       "  <thead>\n",
       "    <tr style=\"text-align: right;\">\n",
       "      <th></th>\n",
       "      <th>songs</th>\n",
       "    </tr>\n",
       "  </thead>\n",
       "  <tbody>\n",
       "    <tr>\n",
       "      <th>0</th>\n",
       "      <td>and they wishin' and wishin' 'newline and wish...</td>\n",
       "    </tr>\n",
       "    <tr>\n",
       "      <th>1</th>\n",
       "      <td>trap trapmoneybenny 'newline this shit got me ...</td>\n",
       "    </tr>\n",
       "    <tr>\n",
       "      <th>2</th>\n",
       "      <td>you used to call me on my 'newline you used to...</td>\n",
       "    </tr>\n",
       "    <tr>\n",
       "      <th>3</th>\n",
       "      <td>baby i like your style 'newline grips on your ...</td>\n",
       "    </tr>\n",
       "    <tr>\n",
       "      <th>4</th>\n",
       "      <td>i got my eyes on you 'newline you're everythin...</td>\n",
       "    </tr>\n",
       "  </tbody>\n",
       "</table>\n",
       "</div>"
      ]
     },
     "execution_count": 21,
     "metadata": {},
     "output_type": "execute_result"
    }
   ],
   "execution_count": 21
  },
  {
   "metadata": {
    "ExecuteTime": {
     "end_time": "2024-06-17T20:06:24.761879Z",
     "start_time": "2024-06-17T20:06:24.754924Z"
    }
   },
   "cell_type": "code",
   "source": "data.to_csv('drake_songs_clean.csv',index=False)",
   "id": "4331fa58f4a4098",
   "outputs": [],
   "execution_count": 22
  },
  {
   "metadata": {},
   "cell_type": "code",
   "outputs": [],
   "execution_count": null,
   "source": "",
   "id": "f3db6e5c12b9312e"
  }
 ],
 "metadata": {
  "kernelspec": {
   "display_name": "Python 3",
   "language": "python",
   "name": "python3"
  },
  "language_info": {
   "codemirror_mode": {
    "name": "ipython",
    "version": 2
   },
   "file_extension": ".py",
   "mimetype": "text/x-python",
   "name": "python",
   "nbconvert_exporter": "python",
   "pygments_lexer": "ipython2",
   "version": "2.7.6"
  }
 },
 "nbformat": 4,
 "nbformat_minor": 5
}
